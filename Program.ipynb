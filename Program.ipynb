{
 "cells": [
  {
   "cell_type": "markdown",
   "metadata": {},
   "source": [
    "# Mined Hackathon - 2022\n",
    "# Track : Applied ML for Manufacturing Industry 's problem (JK-Lakshami-cement)\n",
    "# Team : TeamUnknown\n",
    "# Team Leader : Rana Yash \n",
    "# Team Members \n",
    "# Omkarsinh Rana\n",
    "# Darshan Ramani\n",
    "# Raviya Vatsal\n",
    "# Rathod Mayur"
   ]
  },
  {
   "cell_type": "code",
   "execution_count": 1,
   "metadata": {},
   "outputs": [],
   "source": [
    "# Importing required libraries\n",
    "# Here, the most used library is CV2-Computer vision as we deal with video + image processing with augmentation etc.\n",
    "\n",
    "import cv2\n",
    "import time\n",
    "import os\n",
    "import numpy as np\n",
    "import pytesseract"
   ]
  },
  {
   "cell_type": "code",
   "execution_count": 2,
   "metadata": {},
   "outputs": [],
   "source": [
    "# This statement will check whether the folder exists or not\n",
    "\n",
    "if not os.path.exists('sample_images'):\n",
    "    os.makedirs('sample_images')"
   ]
  },
  {
   "cell_type": "code",
   "execution_count": 3,
   "metadata": {},
   "outputs": [],
   "source": [
    "# We are extracting the images from the selected best videos ....\n",
    "# Run this cell and if you want to stop in between and switch to next video -> kindly press 'q' key\n",
    "# All the created images will be stored inside newly created folder called 'sample_images'\n",
    "\n",
    "ds=r'C:\\Users\\yash\\Desktop\\Nirma\\J K lakshmi-20220303T090031Z-001\\J K lakshmi\\Hackathon'\n",
    "choice=['IMG_0426.MOV','IMG_0427.MOV']\n",
    "for c in choice:\n",
    "    path=os.path.join(ds,c)\n",
    "    cap=cv2.VideoCapture(path)\n",
    "    # cap.set(cv2.CAP_PROP_FRAME_WIDTH, 1809)\n",
    "\n",
    "    currentframe=0\n",
    "    starting_time=0\n",
    "\n",
    "    # cap.set(cv2.CAP_PROP_FRAME_HEIGHT, 949)\n",
    "    while(cap.isOpened()):\n",
    "        ret, frame= cap.read() # ret = true/false\n",
    "        current_time=time.time()\n",
    "        fps=1/(current_time-starting_time)\n",
    "        starting_time=current_time\n",
    "        \n",
    "        \n",
    "        gray=cv2.cvtColor(frame,cv2.COLOR_BGR2GRAY)\n",
    "        cv2.putText(frame,f'FPS:{int(fps)}',(420,40),cv2.FONT_HERSHEY_PLAIN,3,(255,0,0),3)\n",
    "        cv2.imshow('frame',frame)\n",
    "        # cv2.imshow('frame',gray)\n",
    "        \n",
    "        cv2.imwrite('./sample_images/frame'+str(currentframe)+'.jpg',frame)\n",
    "        currentframe+=1;\n",
    "\n",
    "        if cv2.waitKey(1) & 0xFF==ord('q'):\n",
    "            break\n",
    "cap.release()\n",
    "cv2.destroyAllWindows()"
   ]
  },
  {
   "cell_type": "code",
   "execution_count": null,
   "metadata": {},
   "outputs": [],
   "source": []
  },
  {
   "cell_type": "code",
   "execution_count": 4,
   "metadata": {},
   "outputs": [],
   "source": [
    "# The output images will be stored in newly created folder \n",
    "\n",
    "if not os.path.exists('output_images'):\n",
    "        os.makedirs('output_images')\n",
    "\n",
    "if not os.path.exists('output_images_Gray'):\n",
    "        os.makedirs('output_images_Gray')   \n",
    "currentframe=0\n",
    "path='sample_images'\n",
    "for i in os.listdir('sample_images'):\n",
    "    img=cv2.imread(os.path.join(path,i))\n",
    "   \n",
    "    img_resize=cv2.resize(img,(500,500))\n",
    "   \n",
    "    # Creating  filter\n",
    "    filter = np.array([[-1,-1,-1],\n",
    "                    [-1,13,-1],\n",
    "                    [-1,-1,-1]])\n",
    "    sharp=cv2.filter2D(img_resize,-1,filter)\n",
    "    # cv2.imshow('f',sharp)\n",
    "    # cv2.waitKey(0)\n",
    "#     sharp=cv2.GaussianBlur(sharp,(11,11),0)\n",
    "    img1=cv2.cvtColor(sharp,cv2.COLOR_BGR2HSV)\n",
    "    d=cv2.cvtColor(sharp,cv2.COLOR_HSV2BGR)\n",
    "#     \n",
    "    img2=cv2.cvtColor(sharp,cv2.COLOR_BGR2GRAY)\n",
    "    \n",
    "    \n",
    "        \n",
    "    # th, dst = cv2.threshold(d,180,255 ,cv2.THRESH_BINARY_INV)\n",
    "    # cv2.imshow('new',dst)\n",
    "    # cv2.waitKey(0)\n",
    "    # cv2.destroyAllWindows()\n",
    "\n",
    "    cv2.imwrite('./output_images/frame'+str(currentframe)+'.jpg',img1)\n",
    "    cv2.imwrite('./output_images_Gray/frame'+str(currentframe)+'.jpg',img2)\n",
    "    currentframe+=1\n",
    "    \n",
    "    "
   ]
  },
  {
   "cell_type": "code",
   "execution_count": 40,
   "metadata": {},
   "outputs": [
    {
     "name": "stdout",
     "output_type": "stream",
     "text": [
      "i\n",
      "\n",
      " \n",
      "\f\n"
     ]
    }
   ],
   "source": [
    "# i=cv2.imread('frame194.jpg')\n",
    "# i= cv2.fastNlMeansDenoisingColored(i,None,10,10,7,21)\n",
    "\n",
    "# th, dst = cv2.threshold(i,180 ,255 ,cv2.THRESH_BINARY_INV)\n",
    "# cv2.imshow('new',dst)\n",
    "# cv2.waitKey(0)\n",
    "# cv2.destroyAllWindows()\n",
    "# pytesseract.pytesseract.tesseract_cmd=r'C:\\Program Files\\Tesseract-OCR\\tesseract.exe'\n",
    "# print(pytesseract.image_to_string(i))\n",
    "# # # "
   ]
  },
  {
   "cell_type": "code",
   "execution_count": 103,
   "metadata": {},
   "outputs": [
    {
     "data": {
      "text/plain": [
       "-1"
      ]
     },
     "execution_count": 103,
     "metadata": {},
     "output_type": "execute_result"
    }
   ],
   "source": [
    "# mat=np.ones(s.shape,dtype='uint8')*20\n",
    "# b=cv2.add(s,mat)\n",
    "# cv2.imshow('f',b)\n",
    "# cv2.waitKey(0)\n",
    "\n",
    "# # dst = cv2.fastNlMeansDenoisingColored(img,None,10,10,7,21)\n",
    "# dst = cv2.fastNlMeansDenoisingColored(s,None,10,10,7,21)\n",
    "# cv2.imshow('f',dst)\n",
    "# cv2.waitKey(0)"
   ]
  },
  {
   "cell_type": "code",
   "execution_count": 93,
   "metadata": {},
   "outputs": [],
   "source": [
    "# al=2\n",
    "# beta=50\n",
    "\n",
    "# # re=cv2.addWeighted(img,al,np.zeros(img.shape,img.dtype),0,beta)\n",
    "# re=cv2.addWeighted(s,al,np.ones(i.shape,i.dtype),0,beta)\n",
    "\n",
    "# cv2.imshow('f',re)\n",
    "# cv2.waitKey(0)\n",
    "\n",
    "\n",
    "# # Creating our sepia filter\n",
    "# filter = np.array([[-1,-1,-1],\n",
    "#                    [-1,11,-1],\n",
    "#                    [-1,-1,-1]])\n",
    "# s=cv2.filter2D(i,-1,filter)\n",
    "# cv2.imshow('f',s)\n",
    "# cv2.waitKey(0)\n",
    "\n",
    "# # cv2.imshow('f',re)\n",
    "# s=cv2.GaussianBlur(s,(11,11),0)\n",
    "# cv2.imshow('f',s)\n",
    "# cv2.waitKey(0)\n",
    "\n",
    "\n",
    "# th, dst = cv2.threshold(s, 120,255 ,cv2.THRESH_BINARY)\n",
    "# cv2.imshow('new',dst)\n",
    "# cv2.waitKey(0)\n",
    "# cv2.destroyAllWindows()"
   ]
  },
  {
   "cell_type": "code",
   "execution_count": 109,
   "metadata": {},
   "outputs": [
    {
     "name": "stdout",
     "output_type": "stream",
     "text": [
      " \n",
      "\f\n"
     ]
    }
   ],
   "source": [
    "# pytesseract.pytesseract.tesseract_cmd=r'C:\\Program Files\\Tesseract-OCR\\tesseract.exe'\n",
    "# print(pytesseract.image_to_string(s))\n",
    "\n",
    "# d=cv2.cvtColor(s,cv2.COLOR_BGR2HSV)\n",
    "# cv2.imshow('new',d)\n",
    "# cv2.waitKey(0)\n",
    "# cv2.destroyAllWindows()\n"
   ]
  }
 ],
 "metadata": {
  "interpreter": {
   "hash": "46eae73246309a0002b211f56cc3bb2d554949a07c1c6ab428ee1590e93ad38e"
  },
  "kernelspec": {
   "display_name": "Python 3.9.4 64-bit",
   "language": "python",
   "name": "python3"
  },
  "language_info": {
   "codemirror_mode": {
    "name": "ipython",
    "version": 3
   },
   "file_extension": ".py",
   "mimetype": "text/x-python",
   "name": "python",
   "nbconvert_exporter": "python",
   "pygments_lexer": "ipython3",
   "version": "3.9.4"
  },
  "orig_nbformat": 4
 },
 "nbformat": 4,
 "nbformat_minor": 2
}
